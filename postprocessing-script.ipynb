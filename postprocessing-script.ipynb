{
 "cells": [
  {
   "cell_type": "code",
   "execution_count": null,
   "id": "ff1dbf3a",
   "metadata": {},
   "outputs": [],
   "source": [
    "# Import all required packages\n",
    "import json\n",
    "import numpy as np\n",
    "import matplotlib.pyplot as plt\n",
    "\n",
    "# Insert your result file name here \n",
    "filename = \"results\"\n",
    "\n",
    "# Open JSON result file\n",
    "file = open(filename + \".json\")\n",
    "\n",
    "# Return JSON object as a dictionary\n",
    "data = json.load(file)\n",
    "\n",
    "# Print the result file in the console\n",
    "print(\"Results:\")\n",
    "print(json.dumps(data, indent = 1))"
   ]
  },
  {
   "cell_type": "code",
   "execution_count": null,
   "id": "009a7d0f",
   "metadata": {},
   "outputs": [],
   "source": [
    "# Access single countrates\n",
    "singleCounts = data[\"experimentData\"][\"countratePerDetector\"]\n",
    "print(\"Single Counts per Detector:\")\n",
    "print(singleCounts)\n",
    "\n",
    "# Access coincidence counts \n",
    "coincidenceCounts = data[\"experimentData\"][\"coincidenceCounts\"]\n",
    "print(\"Coincidence Counts:\")\n",
    "print(coincidenceCounts)"
   ]
  },
  {
   "cell_type": "code",
   "execution_count": null,
   "id": "514e5656",
   "metadata": {},
   "outputs": [],
   "source": [
    "# Plot single countrates\n",
    "plt.bar(singleCounts.keys(), singleCounts.values())\n",
    "plt.ylabel(\"Countrates\")\n",
    "plt.xlabel(\"Detectors\")\n",
    "plt.show()"
   ]
  },
  {
   "cell_type": "code",
   "execution_count": null,
   "id": "56a0efbb",
   "metadata": {},
   "outputs": [],
   "source": [
    "# Plot coincidence counts\n",
    "plt.bar(coincidenceCounts.keys(), coincidenceCounts.values())\n",
    "plt.ylabel(\"Coincidence Counts\")\n",
    "plt.xlabel(\"Projections\")\n",
    "plt.show()"
   ]
  },
  {
   "cell_type": "code",
   "execution_count": null,
   "id": "5f0e55a1",
   "metadata": {},
   "outputs": [],
   "source": [
    "# Closing file\n",
    "file.close() "
   ]
  }
 ],
 "metadata": {
  "kernelspec": {
   "display_name": ".venv",
   "language": "python",
   "name": ".venv"
  },
  "language_info": {
   "codemirror_mode": {
    "name": "ipython",
    "version": 3
   },
   "file_extension": ".py",
   "mimetype": "text/x-python",
   "name": "python",
   "nbconvert_exporter": "python",
   "pygments_lexer": "ipython3",
   "version": "3.10.3"
  }
 },
 "nbformat": 4,
 "nbformat_minor": 5
}
