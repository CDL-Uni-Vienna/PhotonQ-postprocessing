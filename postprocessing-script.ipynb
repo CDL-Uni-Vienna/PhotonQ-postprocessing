{
 "cells": [
  {
   "cell_type": "code",
   "execution_count": 49,
   "id": "ff1dbf3a",
   "metadata": {},
   "outputs": [
    {
     "name": "stdout",
     "output_type": "stream",
     "text": [
      "Results:\n",
      "{\n",
      " \"experiment\": \"bc9b82de-ce8f-440d-a3de-3ab636b611d8\",\n",
      " \"startTime\": \"2021-12-22T15:27:57.390613Z\",\n",
      " \"totalCounts\": 50000,\n",
      " \"numberOfDetectors\": 4,\n",
      " \"singlePhotonRate\": \"1500.00\",\n",
      " \"totalTime\": 3,\n",
      " \"experimentData\": {\n",
      "  \"countratePerDetector\": {\n",
      "   \"d1\": 123,\n",
      "   \"d2\": 123,\n",
      "   \"d3\": 456,\n",
      "   \"d4\": 123,\n",
      "   \"d5\": 123,\n",
      "   \"d6\": 456,\n",
      "   \"d7\": 123,\n",
      "   \"d8\": 123\n",
      "  },\n",
      "  \"coincidenceCounts\": {\n",
      "   \"c00\": 345,\n",
      "   \"c01\": 15064,\n",
      "   \"c10\": 13444,\n",
      "   \"c11\": 99\n",
      "  }\n",
      " }\n",
      "}\n"
     ]
    }
   ],
   "source": [
    "# Import all required packages\n",
    "import json\n",
    "import numpy as np\n",
    "import matplotlib.pyplot as plt\n",
    "\n",
    "# Insert your result file name here \n",
    "filename = \"results\"\n",
    "\n",
    "# Open JSON result file\n",
    "file = open(filename + \".json\")\n",
    "\n",
    "# Return JSON object as a dictionary\n",
    "data = json.load(file)\n",
    "\n",
    "# Print the result file in the console\n",
    "print(\"Results:\")\n",
    "print(json.dumps(data, indent = 1))"
   ]
  },
  {
   "cell_type": "code",
   "execution_count": 50,
   "id": "009a7d0f",
   "metadata": {},
   "outputs": [
    {
     "name": "stdout",
     "output_type": "stream",
     "text": [
      "Single Counts per Detector:\n",
      "{'d1': 123, 'd2': 123, 'd3': 456, 'd4': 123, 'd5': 123, 'd6': 456, 'd7': 123, 'd8': 123}\n",
      "Coincidence Counts:\n",
      "{'c00': 345, 'c01': 15064, 'c10': 13444, 'c11': 99}\n"
     ]
    }
   ],
   "source": [
    "# Access single countrates\n",
    "singleCounts = data[\"experimentData\"][\"countratePerDetector\"]\n",
    "print(\"Single Counts per Detector:\")\n",
    "print(singleCounts)\n",
    "\n",
    "# Access coincidence counts \n",
    "coincidenceCounts = data[\"experimentData\"][\"coincidenceCounts\"]\n",
    "print(\"Coincidence Counts:\")\n",
    "print(coincidenceCounts)"
   ]
  },
  {
   "cell_type": "code",
   "execution_count": 57,
   "id": "514e5656",
   "metadata": {},
   "outputs": [
    {
     "data": {
      "image/png": "[encoded data removed]",
      "text/plain": [
       "<Figure size 432x288 with 1 Axes>"
      ]
     },
     "metadata": {
      "needs_background": "light"
     },
     "output_type": "display_data"
    }
   ],
   "source": [
    "# Plot single countrates\n",
    "plt.bar(singleCounts.keys(), singleCounts.values())\n",
    "plt.ylabel(\"Countrates\")\n",
    "plt.xlabel(\"Detectors\")\n",
    "plt.show()"
   ]
  },
  {
   "cell_type": "code",
   "execution_count": 54,
   "id": "56a0efbb",
   "metadata": {},
   "outputs": [
    {
     "data": {
      "image/png": "[encoded data removed]",
      "text/plain": [
       "<Figure size 432x288 with 1 Axes>"
      ]
     },
     "metadata": {
      "needs_background": "light"
     },
     "output_type": "display_data"
    }
   ],
   "source": [
    "# Plot coincidence counts\n",
    "plt.bar(coincidenceCounts.keys(), coincidenceCounts.values())\n",
    "plt.ylabel(\"Coincidence Counts\")\n",
    "plt.xlabel(\"Projections\")\n",
    "plt.show()"
   ]
  },
  {
   "cell_type": "code",
   "execution_count": 48,
   "id": "5f0e55a1",
   "metadata": {},
   "outputs": [],
   "source": [
    "# Closing file\n",
    "file.close() "
   ]
  }
 ],
 "metadata": {
  "kernelspec": {
   "display_name": ".venv",
   "language": "python",
   "name": ".venv"
  },
  "language_info": {
   "codemirror_mode": {
    "name": "ipython",
    "version": 3
   },
   "file_extension": ".py",
   "mimetype": "text/x-python",
   "name": "python",
   "nbconvert_exporter": "python",
   "pygments_lexer": "ipython3",
   "version": "3.10.3"
  }
 },
 "nbformat": 4,
 "nbformat_minor": 5
}
