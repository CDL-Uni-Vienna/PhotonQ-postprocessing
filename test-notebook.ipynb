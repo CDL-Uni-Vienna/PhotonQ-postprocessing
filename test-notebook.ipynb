{
 "cells": [
  {
   "cell_type": "code",
   "execution_count": 2,
   "id": "7a6825b8",
   "metadata": {},
   "outputs": [
    {
     "ename": "ModuleNotFoundError",
     "evalue": "No module named 'numpy'",
     "output_type": "error",
     "traceback": [
      "\u001b[1;31m---------------------------------------------------------------------------\u001b[0m",
      "\u001b[1;31mModuleNotFoundError\u001b[0m                       Traceback (most recent call last)",
      "\u001b[1;32mc:\\Users\\zilkf\\Documents\\Workspace\\PhotonQ-postprocessing\\test-notebook.ipynb Cell 1'\u001b[0m in \u001b[0;36m<cell line: 2>\u001b[1;34m()\u001b[0m\n\u001b[0;32m      <a href='vscode-notebook-cell:/c%3A/Users/zilkf/Documents/Workspace/PhotonQ-postprocessing/test-notebook.ipynb#ch0000000?line=0'>1</a>\u001b[0m \u001b[39mimport\u001b[39;00m \u001b[39mjson\u001b[39;00m\n\u001b[1;32m----> <a href='vscode-notebook-cell:/c%3A/Users/zilkf/Documents/Workspace/PhotonQ-postprocessing/test-notebook.ipynb#ch0000000?line=1'>2</a>\u001b[0m \u001b[39mimport\u001b[39;00m \u001b[39mnumpy\u001b[39;00m \u001b[39mas\u001b[39;00m \u001b[39mnp\u001b[39;00m\n\u001b[0;32m      <a href='vscode-notebook-cell:/c%3A/Users/zilkf/Documents/Workspace/PhotonQ-postprocessing/test-notebook.ipynb#ch0000000?line=2'>3</a>\u001b[0m \u001b[39mimport\u001b[39;00m \u001b[39mmatplotlib\u001b[39;00m\u001b[39m.\u001b[39;00m\u001b[39mpyplot\u001b[39;00m \u001b[39mas\u001b[39;00m \u001b[39mplt\u001b[39;00m\n\u001b[0;32m      <a href='vscode-notebook-cell:/c%3A/Users/zilkf/Documents/Workspace/PhotonQ-postprocessing/test-notebook.ipynb#ch0000000?line=4'>5</a>\u001b[0m \u001b[39m# Opening JSON Result File\u001b[39;00m\n",
      "\u001b[1;31mModuleNotFoundError\u001b[0m: No module named 'numpy'"
     ]
    }
   ],
   "source": [
    "import json\n",
    "import numpy as np\n",
    "import matplotlib.pyplot as plt\n",
    "\n",
    "# Opening JSON Result File\n",
    "file = open(\"results.json\")\n",
    "\n",
    "# returns JSON object as\n",
    "# a dictionary\n",
    "data = json.load(file)\n",
    "print(data)\n",
    "print(\"###########\")\n",
    "for i in data[\"experimentData\"][\"countratePerDetector\"]:\n",
    "    print(i)\n",
    "\n",
    "print(data[\"experimentData\"][\"countratePerDetector\"].keys())\n",
    "print(\"###########\")\n",
    "print(data[\"experimentData\"][\"countratePerDetector\"].values())\n",
    "print(\"###########\")\n",
    "#for i in data[\"experimentData\"][\"coincidenceCounts\"]:\n",
    "#    print(i)\n",
    "\n",
    "x = data[\"experimentData\"][\"countratePerDetector\"][\"d1\"]\n",
    "print(x)\n",
    "\n",
    "# Closing file\n",
    "file.close() "
   ]
  },
  {
   "cell_type": "code",
   "execution_count": null,
   "id": "df24cb33",
   "metadata": {},
   "outputs": [],
   "source": []
  }
 ],
 "metadata": {
  "kernelspec": {
   "display_name": "Python 3 (ipykernel)",
   "language": "python",
   "name": "python3"
  },
  "language_info": {
   "codemirror_mode": {
    "name": "ipython",
    "version": 3
   },
   "file_extension": ".py",
   "mimetype": "text/x-python",
   "name": "python",
   "nbconvert_exporter": "python",
   "pygments_lexer": "ipython3",
   "version": "3.10.3"
  }
 },
 "nbformat": 4,
 "nbformat_minor": 5
}
